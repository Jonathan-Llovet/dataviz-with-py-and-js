{
 "cells": [
  {
   "cell_type": "code",
   "execution_count": 1,
   "metadata": {},
   "outputs": [],
   "source": [
    "import numpy as np\n",
    "import pandas as pd"
   ]
  },
  {
   "cell_type": "code",
   "execution_count": 2,
   "metadata": {},
   "outputs": [],
   "source": [
    "from pathlib import Path\n",
    "home = str(Path.home())"
   ]
  },
  {
   "cell_type": "markdown",
   "metadata": {},
   "source": [
    "# Data Importing and Saving\n",
    "\n",
    "## JSON Data"
   ]
  },
  {
   "cell_type": "code",
   "execution_count": 3,
   "metadata": {},
   "outputs": [],
   "source": [
    "# Manually defined json-like object as a list of dicts\n",
    "nobel_winners = [\n",
    "        {\n",
    "            \"category\": \"Physics\",\n",
    "            \"name\": \"Albert Einstein\",\n",
    "            \"nationality\": \"Swiss\",\n",
    "            \"sex\": \"male\",\n",
    "            \"year\": \"1921\"\n",
    "        },\n",
    "        {\n",
    "            \"category\": \"Physics\",\n",
    "            \"name\": \"Paul Dirac\",\n",
    "            \"nationality\": \"British\",\n",
    "            \"sex\": \"male\",\n",
    "            \"year\": \"1933\"\n",
    "        },\n",
    "        {\n",
    "            \"category\": \"Chemistry\",\n",
    "            \"name\": \"Marie Curie\",\n",
    "            \"nationality\": \"Polish\",\n",
    "            \"sex\": \"female\",\n",
    "            \"year\": \"1911\"\n",
    "        }\n",
    "    ]"
   ]
  },
  {
   "cell_type": "markdown",
   "metadata": {},
   "source": [
    "\n",
    "### Converting JSON Data to CSV"
   ]
  },
  {
   "cell_type": "code",
   "execution_count": 4,
   "metadata": {},
   "outputs": [],
   "source": [
    "# Create headers from json object (assumes consistent schema)\n",
    "cols = nobel_winners[0].keys()\n",
    "columns = sorted(cols)\n",
    "\n",
    "winners_path = f'{home}/data/nobel_winners.csv'\n",
    "\n",
    "# Open System file\n",
    "with open(winners_path, 'w') as f:\n",
    "    f.write(','.join(columns) + '\\n')\n",
    "    for o in nobel_winners:\n",
    "        row = [str(o[col]) for col in columns]\n",
    "        f.write(','.join(row) + '\\n')\n"
   ]
  },
  {
   "cell_type": "code",
   "execution_count": 5,
   "metadata": {},
   "outputs": [
    {
     "name": "stdout",
     "output_type": "stream",
     "text": [
      "category,name,nationality,sex,year\n",
      "\n",
      "Physics,Albert Einstein,Swiss,male,1921\n",
      "\n",
      "Physics,Paul Dirac,British,male,1933\n",
      "\n",
      "Chemistry,Marie Curie,Polish,female,1911\n",
      "\n"
     ]
    }
   ],
   "source": [
    "with open(winners_path) as f:\n",
    "    for line in f.readlines():\n",
    "        print(line)"
   ]
  },
  {
   "cell_type": "code",
   "execution_count": null,
   "metadata": {},
   "outputs": [],
   "source": []
  }
 ],
 "metadata": {
  "kernelspec": {
   "display_name": "Python 3",
   "language": "python",
   "name": "python3"
  },
  "language_info": {
   "codemirror_mode": {
    "name": "ipython",
    "version": 3
   },
   "file_extension": ".py",
   "mimetype": "text/x-python",
   "name": "python",
   "nbconvert_exporter": "python",
   "pygments_lexer": "ipython3",
   "version": "3.7.4"
  }
 },
 "nbformat": 4,
 "nbformat_minor": 2
}
