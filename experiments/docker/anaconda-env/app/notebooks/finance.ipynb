{
 "cells": [
  {
   "cell_type": "markdown",
   "metadata": {},
   "source": [
    "# Dividend Payments"
   ]
  },
  {
   "cell_type": "code",
   "execution_count": null,
   "metadata": {},
   "outputs": [],
   "source": [
    "import numpy as np\n",
    "import pandas as pd"
   ]
  },
  {
   "cell_type": "code",
   "execution_count": null,
   "metadata": {},
   "outputs": [],
   "source": [
    "from pathlib import Path\n",
    "# Sets a variable to the home directory of the current user\n",
    "home = str(Path.home())"
   ]
  },
  {
   "cell_type": "markdown",
   "metadata": {},
   "source": [
    "### Using Pandas to open a csv"
   ]
  },
  {
   "cell_type": "code",
   "execution_count": null,
   "metadata": {},
   "outputs": [],
   "source": [
    "# Let's open the file we wrote again, but this time using Pandas\n",
    "acorns = f'{home}/data/private/acorns2019.csv'\n",
    "content = pd.read_csv(acorns)"
   ]
  },
  {
   "cell_type": "code",
   "execution_count": null,
   "metadata": {},
   "outputs": [],
   "source": [
    "type(content)"
   ]
  },
  {
   "cell_type": "code",
   "execution_count": null,
   "metadata": {},
   "outputs": [],
   "source": [
    "# Displaying the content that has been saved in a pandas DataFrame\n",
    "content.head()"
   ]
  },
  {
   "cell_type": "code",
   "execution_count": null,
   "metadata": {},
   "outputs": [],
   "source": [
    "content.head(2)\n",
    "content = content.drop('Raw', axis=1)\n",
    "content.head(2)"
   ]
  },
  {
   "cell_type": "markdown",
   "metadata": {},
   "source": [
    "## Adding a column with the name of the fund for each transaction"
   ]
  },
  {
   "cell_type": "code",
   "execution_count": null,
   "metadata": {},
   "outputs": [],
   "source": [
    "# spaces = content.Description.str.find(\" \", 1)\n",
    "# spaces\n",
    "\n",
    "# https://pandas.pydata.org/pandas-docs/stable/user_guide/text.html\n",
    "content = content.assign(Fund=lambda x: x.Description.str.split(' ').str.get(0))"
   ]
  },
  {
   "cell_type": "code",
   "execution_count": null,
   "metadata": {},
   "outputs": [],
   "source": [
    "def convertDollarStringToFloat(df=content, column='Amount'):\n",
    "    df[column] = df[column].str.replace('$', '')\n",
    "    df[column] = df[column].astype(float)\n",
    "    return df\n",
    "\n",
    "def parseDateTime(df=content, column='Date'):\n",
    "    df[column] = pd.to_datetime(df[column], format=\"%m/%d/%Y\")\n",
    "    return df\n",
    "\n",
    "\n",
    "cleaned_content = parseDateTime(convertDollarStringToFloat(content, 'Amount'), 'Date')\n",
    "\n",
    "# content['Amount'] = content['Amount'].str.replace('$', '')\n",
    "# content['Amount'] = content['Amount'].astype(float)\n",
    "# content['Date'] = pd.to_datetime(content['Date'], format=\"%m/%d/%Y\")\n",
    "cleaned_content.head()"
   ]
  },
  {
   "cell_type": "code",
   "execution_count": null,
   "metadata": {},
   "outputs": [],
   "source": [
    "dividend_investment_filter = cleaned_content.Description.str.contains(\"Dividend Reinvestment\")\n",
    "dividend_investments = cleaned_content.loc[dividend_investment_filter, [\"Date\", \"Amount\", \"Fund\"]]\n",
    "dividend_investments.head()"
   ]
  },
  {
   "cell_type": "code",
   "execution_count": null,
   "metadata": {},
   "outputs": [],
   "source": [
    "dividend_investments.Amount.sum()"
   ]
  },
  {
   "cell_type": "code",
   "execution_count": null,
   "metadata": {},
   "outputs": [],
   "source": [
    "dividend_investments.Amount.count()"
   ]
  },
  {
   "cell_type": "code",
   "execution_count": null,
   "metadata": {},
   "outputs": [],
   "source": [
    "dividend_investments.Amount.mean()"
   ]
  },
  {
   "cell_type": "code",
   "execution_count": null,
   "metadata": {},
   "outputs": [],
   "source": [
    "# converted_records = content.to_dict(orient=\"records\")"
   ]
  },
  {
   "cell_type": "code",
   "execution_count": null,
   "metadata": {},
   "outputs": [],
   "source": [
    "import matplotlib.pyplot as plt\n",
    "%matplotlib inline\n",
    "from pandas.plotting import register_matplotlib_converters\n",
    "register_matplotlib_converters()"
   ]
  },
  {
   "cell_type": "code",
   "execution_count": null,
   "metadata": {},
   "outputs": [],
   "source": [
    "dividends_by_date = dividend_investments.groupby(dividend_investments[\"Date\"].dt.date)['Amount'].agg(['sum']).reset_index()"
   ]
  },
  {
   "cell_type": "code",
   "execution_count": null,
   "metadata": {},
   "outputs": [],
   "source": [
    "# dividends_by_date\n",
    "# df.groupby(df['date'].dt.year)['a'].agg(['sum', 'mean', 'max'])\n",
    "fig=plt.figure(figsize=(10, 8), dpi= 80, facecolor='w', edgecolor='k')\n",
    "plt.plot_date(dividends_by_date['Date'], dividends_by_date['sum'], linestyle='solid')\n"
   ]
  },
  {
   "cell_type": "code",
   "execution_count": null,
   "metadata": {},
   "outputs": [],
   "source": [
    "dividends_per_month = dividend_investments.resample('m', on='Date')['Amount'].agg(['sum']).reset_index()"
   ]
  },
  {
   "cell_type": "code",
   "execution_count": null,
   "metadata": {},
   "outputs": [],
   "source": [
    "fig=plt.figure(figsize=(10, 8), dpi= 80, facecolor='w', edgecolor='k')\n",
    "plt.plot(dividends_per_month['Date'], dividends_per_month['sum'])"
   ]
  },
  {
   "cell_type": "code",
   "execution_count": null,
   "metadata": {},
   "outputs": [],
   "source": [
    "# content = content.assign(Fund=lambda x: x.Description.str.split(' ').str.get(1))\n",
    "# content['Amount'] = content['Amount'].str.replace('$', '')\n",
    "# content['Amount'] = content['Amount'].astype(float)\n",
    "\n",
    "dividends_per_month = dividends_per_month.assign(change=lambda x: x['sum'].pct_change().round(3))"
   ]
  },
  {
   "cell_type": "code",
   "execution_count": null,
   "metadata": {},
   "outputs": [],
   "source": [
    "updatedColumns = {\"sum\":\"dividend\",\"Date\":\"month\"}\n",
    "dividends_per_month = dividends_per_month.rename(columns=updatedColumns)\n",
    "dividends_per_month"
   ]
  },
  {
   "cell_type": "code",
   "execution_count": null,
   "metadata": {},
   "outputs": [],
   "source": [
    "dividend_investments.head()"
   ]
  },
  {
   "cell_type": "code",
   "execution_count": null,
   "metadata": {},
   "outputs": [],
   "source": [
    "fund_dividends = dividend_investments.groupby(['Fund', 'Date']).agg(['sum']).reset_index()\n",
    "fund_dividends.columns.droplevel(1)\n",
    "# .resample('m', on='Date')\n",
    "fund_dividends.head()"
   ]
  },
  {
   "cell_type": "code",
   "execution_count": null,
   "metadata": {},
   "outputs": [],
   "source": [
    "# Not currently needed - another solution was found shortly after. Leaving for reference.\n",
    "funds = fund_dividends.Fund.unique().tolist()\n",
    "\n",
    "import matplotlib.colors as mcolors\n",
    "colors = mcolors.TABLEAU_COLORS.values()\n",
    "\n",
    "fund_colors = dict(zip(funds, colors))\n",
    "fund_colors"
   ]
  },
  {
   "cell_type": "code",
   "execution_count": null,
   "metadata": {},
   "outputs": [],
   "source": [
    "fund_totals = fund_dividends.groupby(['Fund']).sum().reset_index()\n",
    "fund_totals"
   ]
  },
  {
   "cell_type": "code",
   "execution_count": null,
   "metadata": {},
   "outputs": [],
   "source": [
    "fig = plt.figure(figsize=(10, 8), dpi= 80, facecolor='w', edgecolor='k')\n",
    "for key, grp in fund_dividends.groupby('Fund'):\n",
    "    temp_sum = fund_totals.loc[fund_totals.Fund == key, ['Amount']]\n",
    "    temp_sum_value = round(float(temp_sum.iloc[0]['Amount']),3)\n",
    "    \n",
    "    plt.plot_date(grp['Date'], grp['Amount'], label=f\"{key}: {temp_sum_value}\", linestyle='solid')\n",
    "\n",
    "plt.grid()\n",
    "plt.legend(title=\"Fund and Total Dividends\")\n",
    "fig.autofmt_xdate()\n",
    "plt.show()"
   ]
  },
  {
   "cell_type": "code",
   "execution_count": null,
   "metadata": {},
   "outputs": [],
   "source": [
    "# Can be used to validate that the labels above are correct\n",
    "# fund_totals = fund_dividends.groupby(['Fund']).sum()\n",
    "# fund_totals"
   ]
  },
  {
   "cell_type": "code",
   "execution_count": null,
   "metadata": {},
   "outputs": [],
   "source": []
  }
 ],
 "metadata": {
  "kernelspec": {
   "display_name": "Python 3",
   "language": "python",
   "name": "python3"
  },
  "language_info": {
   "codemirror_mode": {
    "name": "ipython",
    "version": 3
   },
   "file_extension": ".py",
   "mimetype": "text/x-python",
   "name": "python",
   "nbconvert_exporter": "python",
   "pygments_lexer": "ipython3",
   "version": "3.7.4"
  }
 },
 "nbformat": 4,
 "nbformat_minor": 2
}
