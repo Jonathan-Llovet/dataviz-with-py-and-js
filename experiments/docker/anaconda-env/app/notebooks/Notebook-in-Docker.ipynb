{
 "cells": [
  {
   "cell_type": "markdown",
   "metadata": {},
   "source": [
    "# Data Importing and Saving"
   ]
  },
  {
   "cell_type": "code",
   "execution_count": 1,
   "metadata": {},
   "outputs": [],
   "source": [
    "import numpy as np\n",
    "import pandas as pd"
   ]
  },
  {
   "cell_type": "code",
   "execution_count": 2,
   "metadata": {},
   "outputs": [],
   "source": [
    "from pathlib import Path\n",
    "# Sets a variable to the home directory of the current user\n",
    "home = str(Path.home())"
   ]
  },
  {
   "cell_type": "markdown",
   "metadata": {},
   "source": [
    "## JSON Data"
   ]
  },
  {
   "cell_type": "code",
   "execution_count": 3,
   "metadata": {},
   "outputs": [],
   "source": [
    "# Manually defined json-like object as a list of dicts\n",
    "nobel_winners = [\n",
    "        {\n",
    "            \"category\": \"Physics\",\n",
    "            \"name\": \"Albert Einstein\",\n",
    "            \"nationality\": \"Swiss\",\n",
    "            \"sex\": \"male\",\n",
    "            \"year\": \"1921\"\n",
    "        },\n",
    "        {\n",
    "            \"category\": \"Physics\",\n",
    "            \"name\": \"Paul Dirac\",\n",
    "            \"nationality\": \"British\",\n",
    "            \"sex\": \"male\",\n",
    "            \"year\": \"1933\"\n",
    "        },\n",
    "        {\n",
    "            \"category\": \"Chemistry\",\n",
    "            \"name\": \"Marie Curie\",\n",
    "            \"nationality\": \"Polish\",\n",
    "            \"sex\": \"female\",\n",
    "            \"year\": \"1911\"\n",
    "        }\n",
    "    ]"
   ]
  },
  {
   "cell_type": "markdown",
   "metadata": {},
   "source": [
    "\n",
    "### Converting JSON Data to CSV"
   ]
  },
  {
   "cell_type": "code",
   "execution_count": 4,
   "metadata": {},
   "outputs": [],
   "source": [
    "# Create headers from json object (assumes consistent schema)\n",
    "cols = nobel_winners[0].keys()\n",
    "columns = sorted(cols)\n",
    "\n",
    "winners_path = f'{home}/data/nobel_winners.csv'\n",
    "\n",
    "# Open System file\n",
    "with open(winners_path, 'w') as f:\n",
    "    f.write(','.join(columns) + '\\n')\n",
    "    for o in nobel_winners:\n",
    "        row = [str(o[col]) for col in columns]\n",
    "        f.write(','.join(row) + '\\n')\n"
   ]
  },
  {
   "cell_type": "code",
   "execution_count": 5,
   "metadata": {},
   "outputs": [
    {
     "name": "stdout",
     "output_type": "stream",
     "text": [
      "category,name,nationality,sex,year\n",
      "\n",
      "Physics,Albert Einstein,Swiss,male,1921\n",
      "\n",
      "Physics,Paul Dirac,British,male,1933\n",
      "\n",
      "Chemistry,Marie Curie,Polish,female,1911\n",
      "\n"
     ]
    }
   ],
   "source": [
    "# Here we are going to use the context manager with ... to verify that we wrote the file properly\n",
    "with open(winners_path) as f:\n",
    "    for line in f.readlines():\n",
    "        print(line)"
   ]
  },
  {
   "cell_type": "markdown",
   "metadata": {},
   "source": [
    "### Using Pandas to open a csv and to specify delimiter"
   ]
  },
  {
   "cell_type": "code",
   "execution_count": 6,
   "metadata": {},
   "outputs": [],
   "source": [
    "# Let's open the file we wrote again, but this time using Pandas\n",
    "content = pd.read_csv(winners_path)"
   ]
  },
  {
   "cell_type": "code",
   "execution_count": 7,
   "metadata": {},
   "outputs": [
    {
     "data": {
      "text/plain": [
       "pandas.core.frame.DataFrame"
      ]
     },
     "execution_count": 7,
     "metadata": {},
     "output_type": "execute_result"
    }
   ],
   "source": [
    "type(content)"
   ]
  },
  {
   "cell_type": "code",
   "execution_count": 8,
   "metadata": {},
   "outputs": [
    {
     "data": {
      "text/html": [
       "<div>\n",
       "<style scoped>\n",
       "    .dataframe tbody tr th:only-of-type {\n",
       "        vertical-align: middle;\n",
       "    }\n",
       "\n",
       "    .dataframe tbody tr th {\n",
       "        vertical-align: top;\n",
       "    }\n",
       "\n",
       "    .dataframe thead th {\n",
       "        text-align: right;\n",
       "    }\n",
       "</style>\n",
       "<table border=\"1\" class=\"dataframe\">\n",
       "  <thead>\n",
       "    <tr style=\"text-align: right;\">\n",
       "      <th></th>\n",
       "      <th>category</th>\n",
       "      <th>name</th>\n",
       "      <th>nationality</th>\n",
       "      <th>sex</th>\n",
       "      <th>year</th>\n",
       "    </tr>\n",
       "  </thead>\n",
       "  <tbody>\n",
       "    <tr>\n",
       "      <td>0</td>\n",
       "      <td>Physics</td>\n",
       "      <td>Albert Einstein</td>\n",
       "      <td>Swiss</td>\n",
       "      <td>male</td>\n",
       "      <td>1921</td>\n",
       "    </tr>\n",
       "    <tr>\n",
       "      <td>1</td>\n",
       "      <td>Physics</td>\n",
       "      <td>Paul Dirac</td>\n",
       "      <td>British</td>\n",
       "      <td>male</td>\n",
       "      <td>1933</td>\n",
       "    </tr>\n",
       "    <tr>\n",
       "      <td>2</td>\n",
       "      <td>Chemistry</td>\n",
       "      <td>Marie Curie</td>\n",
       "      <td>Polish</td>\n",
       "      <td>female</td>\n",
       "      <td>1911</td>\n",
       "    </tr>\n",
       "  </tbody>\n",
       "</table>\n",
       "</div>"
      ],
      "text/plain": [
       "    category             name nationality     sex  year\n",
       "0    Physics  Albert Einstein       Swiss    male  1921\n",
       "1    Physics       Paul Dirac     British    male  1933\n",
       "2  Chemistry      Marie Curie      Polish  female  1911"
      ]
     },
     "execution_count": 8,
     "metadata": {},
     "output_type": "execute_result"
    }
   ],
   "source": [
    "# Displaying the content that has been saved in a pandas DataFrame\n",
    "content"
   ]
  },
  {
   "cell_type": "markdown",
   "metadata": {},
   "source": [
    "We're going to write a new version of the file, but with a semicolon delimiter this time"
   ]
  },
  {
   "cell_type": "code",
   "execution_count": 9,
   "metadata": {},
   "outputs": [],
   "source": [
    "# Setting a variable for the path of the new file\n",
    "winners_path1 = f'{home}/data/nobel_winners1.csv'\n",
    "with open(winners_path1, 'w') as f:\n",
    "    f.write(';'.join(columns) + '\\n')\n",
    "    for o in nobel_winners:\n",
    "        row = [str(o[col]) for col in columns]\n",
    "        f.write(';'.join(row) + '\\n')"
   ]
  },
  {
   "cell_type": "markdown",
   "metadata": {},
   "source": [
    "When we save the new content to a new DataFrame without specifying the delimiter, we can see that the parsing wasn't right"
   ]
  },
  {
   "cell_type": "code",
   "execution_count": 10,
   "metadata": {},
   "outputs": [
    {
     "data": {
      "text/html": [
       "<div>\n",
       "<style scoped>\n",
       "    .dataframe tbody tr th:only-of-type {\n",
       "        vertical-align: middle;\n",
       "    }\n",
       "\n",
       "    .dataframe tbody tr th {\n",
       "        vertical-align: top;\n",
       "    }\n",
       "\n",
       "    .dataframe thead th {\n",
       "        text-align: right;\n",
       "    }\n",
       "</style>\n",
       "<table border=\"1\" class=\"dataframe\">\n",
       "  <thead>\n",
       "    <tr style=\"text-align: right;\">\n",
       "      <th></th>\n",
       "      <th>category;name;nationality;sex;year</th>\n",
       "    </tr>\n",
       "  </thead>\n",
       "  <tbody>\n",
       "    <tr>\n",
       "      <td>0</td>\n",
       "      <td>Physics;Albert Einstein;Swiss;male;1921</td>\n",
       "    </tr>\n",
       "    <tr>\n",
       "      <td>1</td>\n",
       "      <td>Physics;Paul Dirac;British;male;1933</td>\n",
       "    </tr>\n",
       "    <tr>\n",
       "      <td>2</td>\n",
       "      <td>Chemistry;Marie Curie;Polish;female;1911</td>\n",
       "    </tr>\n",
       "  </tbody>\n",
       "</table>\n",
       "</div>"
      ],
      "text/plain": [
       "         category;name;nationality;sex;year\n",
       "0   Physics;Albert Einstein;Swiss;male;1921\n",
       "1      Physics;Paul Dirac;British;male;1933\n",
       "2  Chemistry;Marie Curie;Polish;female;1911"
      ]
     },
     "execution_count": 10,
     "metadata": {},
     "output_type": "execute_result"
    }
   ],
   "source": [
    "content_no_delimiter_specified = pd.read_csv(winners_path1)\n",
    "\n",
    "content_no_delimiter_specified"
   ]
  },
  {
   "cell_type": "markdown",
   "metadata": {},
   "source": [
    "To fix the parsing, now we are going to specify the delimiter to use"
   ]
  },
  {
   "cell_type": "code",
   "execution_count": 11,
   "metadata": {},
   "outputs": [
    {
     "data": {
      "text/html": [
       "<div>\n",
       "<style scoped>\n",
       "    .dataframe tbody tr th:only-of-type {\n",
       "        vertical-align: middle;\n",
       "    }\n",
       "\n",
       "    .dataframe tbody tr th {\n",
       "        vertical-align: top;\n",
       "    }\n",
       "\n",
       "    .dataframe thead th {\n",
       "        text-align: right;\n",
       "    }\n",
       "</style>\n",
       "<table border=\"1\" class=\"dataframe\">\n",
       "  <thead>\n",
       "    <tr style=\"text-align: right;\">\n",
       "      <th></th>\n",
       "      <th>category</th>\n",
       "      <th>name</th>\n",
       "      <th>nationality</th>\n",
       "      <th>sex</th>\n",
       "      <th>year</th>\n",
       "    </tr>\n",
       "  </thead>\n",
       "  <tbody>\n",
       "    <tr>\n",
       "      <td>0</td>\n",
       "      <td>Physics</td>\n",
       "      <td>Albert Einstein</td>\n",
       "      <td>Swiss</td>\n",
       "      <td>male</td>\n",
       "      <td>1921</td>\n",
       "    </tr>\n",
       "    <tr>\n",
       "      <td>1</td>\n",
       "      <td>Physics</td>\n",
       "      <td>Paul Dirac</td>\n",
       "      <td>British</td>\n",
       "      <td>male</td>\n",
       "      <td>1933</td>\n",
       "    </tr>\n",
       "    <tr>\n",
       "      <td>2</td>\n",
       "      <td>Chemistry</td>\n",
       "      <td>Marie Curie</td>\n",
       "      <td>Polish</td>\n",
       "      <td>female</td>\n",
       "      <td>1911</td>\n",
       "    </tr>\n",
       "  </tbody>\n",
       "</table>\n",
       "</div>"
      ],
      "text/plain": [
       "    category             name nationality     sex  year\n",
       "0    Physics  Albert Einstein       Swiss    male  1921\n",
       "1    Physics       Paul Dirac     British    male  1933\n",
       "2  Chemistry      Marie Curie      Polish  female  1911"
      ]
     },
     "execution_count": 11,
     "metadata": {},
     "output_type": "execute_result"
    }
   ],
   "source": [
    "content_with_delimiter_specified = pd.read_csv(winners_path1, sep =';')\n",
    "content_with_delimiter_specified"
   ]
  },
  {
   "cell_type": "markdown",
   "metadata": {},
   "source": [
    "Especially useful with big data sets, we can display the first few rows of data.\n",
    "\n",
    "\n",
    "Optionally, we can specify how many to show at once with an integer.\n"
   ]
  },
  {
   "cell_type": "code",
   "execution_count": 12,
   "metadata": {},
   "outputs": [
    {
     "data": {
      "text/html": [
       "<div>\n",
       "<style scoped>\n",
       "    .dataframe tbody tr th:only-of-type {\n",
       "        vertical-align: middle;\n",
       "    }\n",
       "\n",
       "    .dataframe tbody tr th {\n",
       "        vertical-align: top;\n",
       "    }\n",
       "\n",
       "    .dataframe thead th {\n",
       "        text-align: right;\n",
       "    }\n",
       "</style>\n",
       "<table border=\"1\" class=\"dataframe\">\n",
       "  <thead>\n",
       "    <tr style=\"text-align: right;\">\n",
       "      <th></th>\n",
       "      <th>category</th>\n",
       "      <th>name</th>\n",
       "      <th>nationality</th>\n",
       "      <th>sex</th>\n",
       "      <th>year</th>\n",
       "    </tr>\n",
       "  </thead>\n",
       "  <tbody>\n",
       "    <tr>\n",
       "      <td>0</td>\n",
       "      <td>Physics</td>\n",
       "      <td>Albert Einstein</td>\n",
       "      <td>Swiss</td>\n",
       "      <td>male</td>\n",
       "      <td>1921</td>\n",
       "    </tr>\n",
       "    <tr>\n",
       "      <td>1</td>\n",
       "      <td>Physics</td>\n",
       "      <td>Paul Dirac</td>\n",
       "      <td>British</td>\n",
       "      <td>male</td>\n",
       "      <td>1933</td>\n",
       "    </tr>\n",
       "  </tbody>\n",
       "</table>\n",
       "</div>"
      ],
      "text/plain": [
       "  category             name nationality   sex  year\n",
       "0  Physics  Albert Einstein       Swiss  male  1921\n",
       "1  Physics       Paul Dirac     British  male  1933"
      ]
     },
     "execution_count": 12,
     "metadata": {},
     "output_type": "execute_result"
    }
   ],
   "source": [
    "content.head(2)"
   ]
  },
  {
   "cell_type": "markdown",
   "metadata": {},
   "source": [
    "### Updating columns in the DataFrame"
   ]
  },
  {
   "cell_type": "markdown",
   "metadata": {},
   "source": [
    "Let's specify a column that we want to change by putting it into a python dict"
   ]
  },
  {
   "cell_type": "code",
   "execution_count": 13,
   "metadata": {},
   "outputs": [],
   "source": [
    "updatedColumns = {\"category\":\"field\"}"
   ]
  },
  {
   "cell_type": "markdown",
   "metadata": {},
   "source": [
    "Here we will rename a column\n",
    "\n",
    "This is reminiscent of React's method of merging state changes, rather than overwriting all state.\n",
    "Similar behavior is also found in Git's patching."
   ]
  },
  {
   "cell_type": "code",
   "execution_count": 14,
   "metadata": {},
   "outputs": [
    {
     "data": {
      "text/html": [
       "<div>\n",
       "<style scoped>\n",
       "    .dataframe tbody tr th:only-of-type {\n",
       "        vertical-align: middle;\n",
       "    }\n",
       "\n",
       "    .dataframe tbody tr th {\n",
       "        vertical-align: top;\n",
       "    }\n",
       "\n",
       "    .dataframe thead th {\n",
       "        text-align: right;\n",
       "    }\n",
       "</style>\n",
       "<table border=\"1\" class=\"dataframe\">\n",
       "  <thead>\n",
       "    <tr style=\"text-align: right;\">\n",
       "      <th></th>\n",
       "      <th>field</th>\n",
       "      <th>name</th>\n",
       "      <th>nationality</th>\n",
       "      <th>sex</th>\n",
       "      <th>year</th>\n",
       "    </tr>\n",
       "  </thead>\n",
       "  <tbody>\n",
       "    <tr>\n",
       "      <td>0</td>\n",
       "      <td>Physics</td>\n",
       "      <td>Albert Einstein</td>\n",
       "      <td>Swiss</td>\n",
       "      <td>male</td>\n",
       "      <td>1921</td>\n",
       "    </tr>\n",
       "    <tr>\n",
       "      <td>1</td>\n",
       "      <td>Physics</td>\n",
       "      <td>Paul Dirac</td>\n",
       "      <td>British</td>\n",
       "      <td>male</td>\n",
       "      <td>1933</td>\n",
       "    </tr>\n",
       "    <tr>\n",
       "      <td>2</td>\n",
       "      <td>Chemistry</td>\n",
       "      <td>Marie Curie</td>\n",
       "      <td>Polish</td>\n",
       "      <td>female</td>\n",
       "      <td>1911</td>\n",
       "    </tr>\n",
       "  </tbody>\n",
       "</table>\n",
       "</div>"
      ],
      "text/plain": [
       "       field             name nationality     sex  year\n",
       "0    Physics  Albert Einstein       Swiss    male  1921\n",
       "1    Physics       Paul Dirac     British    male  1933\n",
       "2  Chemistry      Marie Curie      Polish  female  1911"
      ]
     },
     "execution_count": 14,
     "metadata": {},
     "output_type": "execute_result"
    }
   ],
   "source": [
    "content = content.rename(columns=updatedColumns)\n",
    "content"
   ]
  },
  {
   "cell_type": "markdown",
   "metadata": {},
   "source": [
    "### Convert DataFrame to Dictionary"
   ]
  },
  {
   "cell_type": "markdown",
   "metadata": {},
   "source": [
    "DataFrames can be converted to Python objects\n",
    "\n",
    "We will use this below in the JSON section"
   ]
  },
  {
   "cell_type": "code",
   "execution_count": 15,
   "metadata": {},
   "outputs": [],
   "source": [
    "converted_records = content.to_dict(orient=\"records\")"
   ]
  },
  {
   "cell_type": "markdown",
   "metadata": {},
   "source": [
    "### Queries on Pandas DataFrames\n",
    "\n",
    "We can also perform queries on the data, similarly to using where clauses in SQL"
   ]
  },
  {
   "cell_type": "code",
   "execution_count": 16,
   "metadata": {},
   "outputs": [
    {
     "data": {
      "text/html": [
       "<div>\n",
       "<style scoped>\n",
       "    .dataframe tbody tr th:only-of-type {\n",
       "        vertical-align: middle;\n",
       "    }\n",
       "\n",
       "    .dataframe tbody tr th {\n",
       "        vertical-align: top;\n",
       "    }\n",
       "\n",
       "    .dataframe thead th {\n",
       "        text-align: right;\n",
       "    }\n",
       "</style>\n",
       "<table border=\"1\" class=\"dataframe\">\n",
       "  <thead>\n",
       "    <tr style=\"text-align: right;\">\n",
       "      <th></th>\n",
       "      <th>field</th>\n",
       "      <th>name</th>\n",
       "      <th>nationality</th>\n",
       "      <th>sex</th>\n",
       "      <th>year</th>\n",
       "    </tr>\n",
       "  </thead>\n",
       "  <tbody>\n",
       "    <tr>\n",
       "      <td>0</td>\n",
       "      <td>Physics</td>\n",
       "      <td>Albert Einstein</td>\n",
       "      <td>Swiss</td>\n",
       "      <td>male</td>\n",
       "      <td>1921</td>\n",
       "    </tr>\n",
       "    <tr>\n",
       "      <td>1</td>\n",
       "      <td>Physics</td>\n",
       "      <td>Paul Dirac</td>\n",
       "      <td>British</td>\n",
       "      <td>male</td>\n",
       "      <td>1933</td>\n",
       "    </tr>\n",
       "  </tbody>\n",
       "</table>\n",
       "</div>"
      ],
      "text/plain": [
       "     field             name nationality   sex  year\n",
       "0  Physics  Albert Einstein       Swiss  male  1921\n",
       "1  Physics       Paul Dirac     British  male  1933"
      ]
     },
     "execution_count": 16,
     "metadata": {},
     "output_type": "execute_result"
    }
   ],
   "source": [
    "physicists = content[content.field == \"Physics\"]\n",
    "\n",
    "physicists"
   ]
  },
  {
   "cell_type": "markdown",
   "metadata": {},
   "source": [
    "Similarly, we can view a single column of data"
   ]
  },
  {
   "cell_type": "code",
   "execution_count": 17,
   "metadata": {},
   "outputs": [
    {
     "data": {
      "text/plain": [
       "0      male\n",
       "1      male\n",
       "2    female\n",
       "Name: sex, dtype: object"
      ]
     },
     "execution_count": 17,
     "metadata": {},
     "output_type": "execute_result"
    }
   ],
   "source": [
    "sexes_of_winners = content.sex\n",
    "sexes_of_winners"
   ]
  },
  {
   "cell_type": "markdown",
   "metadata": {},
   "source": [
    "### Using loc to perform queries with filters\n",
    "See this website for more information:\n",
    "[Ritchieng - Pandas Selecting Multiple Rows and Columns](https://www.ritchieng.com/pandas-selecting-multiple-rows-and-columns/)"
   ]
  },
  {
   "cell_type": "markdown",
   "metadata": {},
   "source": [
    "#### Query with a filter and selecting a single column"
   ]
  },
  {
   "cell_type": "code",
   "execution_count": 18,
   "metadata": {},
   "outputs": [
    {
     "data": {
      "text/html": [
       "<div>\n",
       "<style scoped>\n",
       "    .dataframe tbody tr th:only-of-type {\n",
       "        vertical-align: middle;\n",
       "    }\n",
       "\n",
       "    .dataframe tbody tr th {\n",
       "        vertical-align: top;\n",
       "    }\n",
       "\n",
       "    .dataframe thead th {\n",
       "        text-align: right;\n",
       "    }\n",
       "</style>\n",
       "<table border=\"1\" class=\"dataframe\">\n",
       "  <thead>\n",
       "    <tr style=\"text-align: right;\">\n",
       "      <th></th>\n",
       "      <th>sex</th>\n",
       "    </tr>\n",
       "  </thead>\n",
       "  <tbody>\n",
       "    <tr>\n",
       "      <td>0</td>\n",
       "      <td>male</td>\n",
       "    </tr>\n",
       "    <tr>\n",
       "      <td>1</td>\n",
       "      <td>male</td>\n",
       "    </tr>\n",
       "  </tbody>\n",
       "</table>\n",
       "</div>"
      ],
      "text/plain": [
       "    sex\n",
       "0  male\n",
       "1  male"
      ]
     },
     "execution_count": 18,
     "metadata": {},
     "output_type": "execute_result"
    }
   ],
   "source": [
    "sex_of_winners_after_1920 = content.loc[content.year >= 1920, ['sex']]\n",
    "sex_of_winners_after_1920"
   ]
  },
  {
   "cell_type": "markdown",
   "metadata": {},
   "source": [
    "#### Query with multiple columns"
   ]
  },
  {
   "cell_type": "code",
   "execution_count": 19,
   "metadata": {},
   "outputs": [
    {
     "data": {
      "text/html": [
       "<div>\n",
       "<style scoped>\n",
       "    .dataframe tbody tr th:only-of-type {\n",
       "        vertical-align: middle;\n",
       "    }\n",
       "\n",
       "    .dataframe tbody tr th {\n",
       "        vertical-align: top;\n",
       "    }\n",
       "\n",
       "    .dataframe thead th {\n",
       "        text-align: right;\n",
       "    }\n",
       "</style>\n",
       "<table border=\"1\" class=\"dataframe\">\n",
       "  <thead>\n",
       "    <tr style=\"text-align: right;\">\n",
       "      <th></th>\n",
       "      <th>nationality</th>\n",
       "      <th>year</th>\n",
       "    </tr>\n",
       "  </thead>\n",
       "  <tbody>\n",
       "    <tr>\n",
       "      <td>0</td>\n",
       "      <td>Swiss</td>\n",
       "      <td>1921</td>\n",
       "    </tr>\n",
       "    <tr>\n",
       "      <td>1</td>\n",
       "      <td>British</td>\n",
       "      <td>1933</td>\n",
       "    </tr>\n",
       "  </tbody>\n",
       "</table>\n",
       "</div>"
      ],
      "text/plain": [
       "  nationality  year\n",
       "0       Swiss  1921\n",
       "1     British  1933"
      ]
     },
     "execution_count": 19,
     "metadata": {},
     "output_type": "execute_result"
    }
   ],
   "source": [
    "nationality_and_year = content.loc[(content.year >= 1920), ['nationality', 'year']]\n",
    "nationality_and_year"
   ]
  },
  {
   "cell_type": "markdown",
   "metadata": {},
   "source": [
    "#### Querying with multiple filters and multiple columns"
   ]
  },
  {
   "cell_type": "code",
   "execution_count": 20,
   "metadata": {},
   "outputs": [
    {
     "data": {
      "text/html": [
       "<div>\n",
       "<style scoped>\n",
       "    .dataframe tbody tr th:only-of-type {\n",
       "        vertical-align: middle;\n",
       "    }\n",
       "\n",
       "    .dataframe tbody tr th {\n",
       "        vertical-align: top;\n",
       "    }\n",
       "\n",
       "    .dataframe thead th {\n",
       "        text-align: right;\n",
       "    }\n",
       "</style>\n",
       "<table border=\"1\" class=\"dataframe\">\n",
       "  <thead>\n",
       "    <tr style=\"text-align: right;\">\n",
       "      <th></th>\n",
       "      <th>nationality</th>\n",
       "      <th>year</th>\n",
       "    </tr>\n",
       "  </thead>\n",
       "  <tbody>\n",
       "  </tbody>\n",
       "</table>\n",
       "</div>"
      ],
      "text/plain": [
       "Empty DataFrame\n",
       "Columns: [nationality, year]\n",
       "Index: []"
      ]
     },
     "execution_count": 20,
     "metadata": {},
     "output_type": "execute_result"
    }
   ],
   "source": [
    "nationality_and_year_female = content.loc[(content.year >= 1920) & (content.sex != 'male'), ['nationality', 'year']]\n",
    "nationality_and_year_female"
   ]
  },
  {
   "cell_type": "markdown",
   "metadata": {},
   "source": [
    "## CSV Module"
   ]
  },
  {
   "cell_type": "code",
   "execution_count": 21,
   "metadata": {},
   "outputs": [],
   "source": [
    "import csv"
   ]
  },
  {
   "cell_type": "markdown",
   "metadata": {},
   "source": [
    "Here is the nobel_winners dict that we are working with:"
   ]
  },
  {
   "cell_type": "code",
   "execution_count": 22,
   "metadata": {},
   "outputs": [
    {
     "data": {
      "text/plain": [
       "[{'category': 'Physics',\n",
       "  'name': 'Albert Einstein',\n",
       "  'nationality': 'Swiss',\n",
       "  'sex': 'male',\n",
       "  'year': '1921'},\n",
       " {'category': 'Physics',\n",
       "  'name': 'Paul Dirac',\n",
       "  'nationality': 'British',\n",
       "  'sex': 'male',\n",
       "  'year': '1933'},\n",
       " {'category': 'Chemistry',\n",
       "  'name': 'Marie Curie',\n",
       "  'nationality': 'Polish',\n",
       "  'sex': 'female',\n",
       "  'year': '1911'}]"
      ]
     },
     "execution_count": 22,
     "metadata": {},
     "output_type": "execute_result"
    }
   ],
   "source": [
    "nobel_winners"
   ]
  },
  {
   "cell_type": "markdown",
   "metadata": {},
   "source": [
    "### Writing a new csv file with the built-in csv module"
   ]
  },
  {
   "cell_type": "code",
   "execution_count": 23,
   "metadata": {},
   "outputs": [],
   "source": [
    "winners_path2 = f'{home}/data/nobel_winners2.csv'\n",
    "\n",
    "with open(winners_path2, 'w') as f:\n",
    "    fieldnames = nobel_winners[0].keys()\n",
    "    sorted_fieldnames = sorted(fieldnames)\n",
    "    writer = csv.DictWriter(f, fieldnames=sorted_fieldnames)\n",
    "    writer.writeheader()\n",
    "    for r in nobel_winners:\n",
    "        writer.writerow(r)\n"
   ]
  },
  {
   "cell_type": "code",
   "execution_count": 24,
   "metadata": {},
   "outputs": [
    {
     "name": "stdout",
     "output_type": "stream",
     "text": [
      "OrderedDict([('category', 'Physics'), ('name', 'Albert Einstein'), ('nationality', 'Swiss'), ('sex', 'male'), ('year', '1921')])\n",
      "OrderedDict([('category', 'Physics'), ('name', 'Paul Dirac'), ('nationality', 'British'), ('sex', 'male'), ('year', '1933')])\n",
      "OrderedDict([('category', 'Chemistry'), ('name', 'Marie Curie'), ('nationality', 'Polish'), ('sex', 'female'), ('year', '1911')])\n"
     ]
    }
   ],
   "source": [
    "with open(winners_path2, 'r') as f:\n",
    "    reader = csv.DictReader(f)\n",
    "    for row in reader:\n",
    "        print(row)"
   ]
  },
  {
   "cell_type": "markdown",
   "metadata": {},
   "source": [
    "Another example of retrieving items from the csv, this time appending them to a list"
   ]
  },
  {
   "cell_type": "code",
   "execution_count": 25,
   "metadata": {},
   "outputs": [
    {
     "data": {
      "text/plain": [
       "['1921', '1933', '1911']"
      ]
     },
     "execution_count": 25,
     "metadata": {},
     "output_type": "execute_result"
    }
   ],
   "source": [
    "years = []\n",
    "with open(winners_path2, 'r') as f:\n",
    "    reader = csv.DictReader(f)\n",
    "    for row in reader:\n",
    "        years.append(row['year'])\n",
    "years"
   ]
  },
  {
   "cell_type": "markdown",
   "metadata": {},
   "source": [
    "### Parsing fields returned\n",
    "As you can see above, the values for the years that we pull from the csv file with the reader are not parsed.\n",
    "We need to parse these manually to use them as ints"
   ]
  },
  {
   "cell_type": "code",
   "execution_count": 26,
   "metadata": {},
   "outputs": [],
   "source": [
    "with open(winners_path2, 'r') as f:\n",
    "    reader = csv.DictReader(f)\n",
    "    winners = list(reader)\n",
    "    for winner in winners:\n",
    "        winner['year'] = int(winner['year'])"
   ]
  },
  {
   "cell_type": "markdown",
   "metadata": {},
   "source": [
    "Let's take the average of the years sampled to show that they are numbers"
   ]
  },
  {
   "cell_type": "code",
   "execution_count": 27,
   "metadata": {},
   "outputs": [
    {
     "data": {
      "text/plain": [
       "1922"
      ]
     },
     "execution_count": 27,
     "metadata": {},
     "output_type": "execute_result"
    }
   ],
   "source": [
    "sumYears = 0\n",
    "for w in winners:\n",
    "    sumYears += w['year']\n",
    "average = round(sumYears/len(winners))\n",
    "average"
   ]
  },
  {
   "cell_type": "markdown",
   "metadata": {},
   "source": [
    "## Working with JSON"
   ]
  },
  {
   "cell_type": "code",
   "execution_count": 28,
   "metadata": {},
   "outputs": [],
   "source": [
    "import json"
   ]
  },
  {
   "cell_type": "markdown",
   "metadata": {},
   "source": [
    "### Writing and Reading JSON Data"
   ]
  },
  {
   "cell_type": "code",
   "execution_count": 29,
   "metadata": {},
   "outputs": [
    {
     "data": {
      "text/plain": [
       "[{'category': 'Physics',\n",
       "  'name': 'Albert Einstein',\n",
       "  'nationality': 'Swiss',\n",
       "  'sex': 'male',\n",
       "  'year': '1921'},\n",
       " {'category': 'Physics',\n",
       "  'name': 'Paul Dirac',\n",
       "  'nationality': 'British',\n",
       "  'sex': 'male',\n",
       "  'year': '1933'},\n",
       " {'category': 'Chemistry',\n",
       "  'name': 'Marie Curie',\n",
       "  'nationality': 'Polish',\n",
       "  'sex': 'female',\n",
       "  'year': '1911'}]"
      ]
     },
     "execution_count": 29,
     "metadata": {},
     "output_type": "execute_result"
    }
   ],
   "source": [
    "winners_json = f'{home}/data/nobel_winners.json'\n",
    "\n",
    "with open(winners_json, 'w') as f:\n",
    "    json.dump(nobel_winners, f)\n",
    "\n",
    "with open(winners_json, 'r') as f:\n",
    "    nobels = json.load(f)\n",
    "\n",
    "nobels"
   ]
  },
  {
   "cell_type": "markdown",
   "metadata": {},
   "source": [
    "Here we will use the converted_records object from the pandas examples above.\n",
    "\n",
    "There we changed one of the column headers from the original json.\n",
    "\n",
    "Then we converted the object to a python dict to save here using the to_dict method."
   ]
  },
  {
   "cell_type": "code",
   "execution_count": 30,
   "metadata": {},
   "outputs": [
    {
     "data": {
      "text/plain": [
       "[{'field': 'Physics',\n",
       "  'name': 'Albert Einstein',\n",
       "  'nationality': 'Swiss',\n",
       "  'sex': 'male',\n",
       "  'year': 1921},\n",
       " {'field': 'Physics',\n",
       "  'name': 'Paul Dirac',\n",
       "  'nationality': 'British',\n",
       "  'sex': 'male',\n",
       "  'year': 1933},\n",
       " {'field': 'Chemistry',\n",
       "  'name': 'Marie Curie',\n",
       "  'nationality': 'Polish',\n",
       "  'sex': 'female',\n",
       "  'year': 1911}]"
      ]
     },
     "execution_count": 30,
     "metadata": {},
     "output_type": "execute_result"
    }
   ],
   "source": [
    "with open(winners_json, 'w') as f:\n",
    "    json.dump(converted_records, f)\n",
    "\n",
    "with open(winners_json, 'r') as f:\n",
    "    nobels2 = json.load(f)\n",
    "\n",
    "nobels2"
   ]
  },
  {
   "cell_type": "code",
   "execution_count": null,
   "metadata": {},
   "outputs": [],
   "source": []
  }
 ],
 "metadata": {
  "kernelspec": {
   "display_name": "Python 3",
   "language": "python",
   "name": "python3"
  },
  "language_info": {
   "codemirror_mode": {
    "name": "ipython",
    "version": 3
   },
   "file_extension": ".py",
   "mimetype": "text/x-python",
   "name": "python",
   "nbconvert_exporter": "python",
   "pygments_lexer": "ipython3",
   "version": "3.7.4"
  }
 },
 "nbformat": 4,
 "nbformat_minor": 2
}
